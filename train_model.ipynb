{
  "cells": [
    {
      "cell_type": "markdown",
      "metadata": {},
      "source": [
        "# Emotion Detection from Keyboard Typing Patterns\n",
        "\n",
        "End-to-end pipeline: load data → feature engineering → model training → evaluation → export artifacts.\n",
        "\n",
        "**Files**:\n",
        "- `synthetic_session_level.csv` (demo data)\n",
        "- `data_template.csv` (record-by-key events template)\n",
        "\n",
        "You can replace the synthetic data with your real aggregated session-level features."
      ]
    },
    {
      "cell_type": "code",
      "execution_count": 1,
      "metadata": {},
      "outputs": [
        {
          "data": {
            "text/html": [
              "<div>\n",
              "<style scoped>\n",
              "    .dataframe tbody tr th:only-of-type {\n",
              "        vertical-align: middle;\n",
              "    }\n",
              "\n",
              "    .dataframe tbody tr th {\n",
              "        vertical-align: top;\n",
              "    }\n",
              "\n",
              "    .dataframe thead th {\n",
              "        text-align: right;\n",
              "    }\n",
              "</style>\n",
              "<table border=\"1\" class=\"dataframe\">\n",
              "  <thead>\n",
              "    <tr style=\"text-align: right;\">\n",
              "      <th></th>\n",
              "      <th>session_id</th>\n",
              "      <th>user_id</th>\n",
              "      <th>n_keys</th>\n",
              "      <th>wpm</th>\n",
              "      <th>dwell_mean_ms</th>\n",
              "      <th>dwell_std_ms</th>\n",
              "      <th>flight_mean_ms</th>\n",
              "      <th>flight_std_ms</th>\n",
              "      <th>dwell_cv</th>\n",
              "      <th>flight_cv</th>\n",
              "      <th>digraph_var</th>\n",
              "      <th>iqr_delay_ms</th>\n",
              "      <th>burstiness</th>\n",
              "      <th>pauses_over_500ms</th>\n",
              "      <th>backspace_rate</th>\n",
              "      <th>self_report_valence_1to9</th>\n",
              "      <th>self_report_arousal_1to9</th>\n",
              "      <th>label_emotion</th>\n",
              "    </tr>\n",
              "  </thead>\n",
              "  <tbody>\n",
              "    <tr>\n",
              "      <th>0</th>\n",
              "      <td>S540729</td>\n",
              "      <td>U30</td>\n",
              "      <td>201</td>\n",
              "      <td>1394.488192</td>\n",
              "      <td>94.537333</td>\n",
              "      <td>17.668215</td>\n",
              "      <td>120.595360</td>\n",
              "      <td>35.261051</td>\n",
              "      <td>0.186891</td>\n",
              "      <td>0.292391</td>\n",
              "      <td>245.841116</td>\n",
              "      <td>46.671675</td>\n",
              "      <td>5.576393</td>\n",
              "      <td>0.0</td>\n",
              "      <td>0.049751</td>\n",
              "      <td>8</td>\n",
              "      <td>7</td>\n",
              "      <td>happy</td>\n",
              "    </tr>\n",
              "    <tr>\n",
              "      <th>1</th>\n",
              "      <td>S579165</td>\n",
              "      <td>U29</td>\n",
              "      <td>416</td>\n",
              "      <td>1395.829813</td>\n",
              "      <td>94.308146</td>\n",
              "      <td>19.976624</td>\n",
              "      <td>120.617770</td>\n",
              "      <td>35.268584</td>\n",
              "      <td>0.211823</td>\n",
              "      <td>0.292400</td>\n",
              "      <td>288.481221</td>\n",
              "      <td>46.427268</td>\n",
              "      <td>6.010986</td>\n",
              "      <td>0.0</td>\n",
              "      <td>0.052885</td>\n",
              "      <td>7</td>\n",
              "      <td>5</td>\n",
              "      <td>happy</td>\n",
              "    </tr>\n",
              "    <tr>\n",
              "      <th>2</th>\n",
              "      <td>S163209</td>\n",
              "      <td>U29</td>\n",
              "      <td>416</td>\n",
              "      <td>1391.409924</td>\n",
              "      <td>93.249867</td>\n",
              "      <td>19.292602</td>\n",
              "      <td>122.358772</td>\n",
              "      <td>36.188314</td>\n",
              "      <td>0.206891</td>\n",
              "      <td>0.295756</td>\n",
              "      <td>287.920524</td>\n",
              "      <td>48.301510</td>\n",
              "      <td>4.891197</td>\n",
              "      <td>0.0</td>\n",
              "      <td>0.052885</td>\n",
              "      <td>7</td>\n",
              "      <td>5</td>\n",
              "      <td>happy</td>\n",
              "    </tr>\n",
              "    <tr>\n",
              "      <th>3</th>\n",
              "      <td>S874987</td>\n",
              "      <td>U30</td>\n",
              "      <td>193</td>\n",
              "      <td>1395.527764</td>\n",
              "      <td>95.755208</td>\n",
              "      <td>18.898071</td>\n",
              "      <td>119.217226</td>\n",
              "      <td>34.646019</td>\n",
              "      <td>0.197358</td>\n",
              "      <td>0.290613</td>\n",
              "      <td>345.053154</td>\n",
              "      <td>42.789383</td>\n",
              "      <td>5.093063</td>\n",
              "      <td>0.0</td>\n",
              "      <td>0.046632</td>\n",
              "      <td>6</td>\n",
              "      <td>5</td>\n",
              "      <td>happy</td>\n",
              "    </tr>\n",
              "    <tr>\n",
              "      <th>4</th>\n",
              "      <td>S516741</td>\n",
              "      <td>U24</td>\n",
              "      <td>363</td>\n",
              "      <td>1402.253115</td>\n",
              "      <td>93.570174</td>\n",
              "      <td>19.737551</td>\n",
              "      <td>120.371229</td>\n",
              "      <td>34.602448</td>\n",
              "      <td>0.210938</td>\n",
              "      <td>0.287464</td>\n",
              "      <td>204.942086</td>\n",
              "      <td>43.140898</td>\n",
              "      <td>6.899826</td>\n",
              "      <td>0.0</td>\n",
              "      <td>0.041322</td>\n",
              "      <td>6</td>\n",
              "      <td>6</td>\n",
              "      <td>happy</td>\n",
              "    </tr>\n",
              "  </tbody>\n",
              "</table>\n",
              "</div>"
            ],
            "text/plain": [
              "  session_id user_id  n_keys          wpm  dwell_mean_ms  dwell_std_ms  \\\n",
              "0    S540729     U30     201  1394.488192      94.537333     17.668215   \n",
              "1    S579165     U29     416  1395.829813      94.308146     19.976624   \n",
              "2    S163209     U29     416  1391.409924      93.249867     19.292602   \n",
              "3    S874987     U30     193  1395.527764      95.755208     18.898071   \n",
              "4    S516741     U24     363  1402.253115      93.570174     19.737551   \n",
              "\n",
              "   flight_mean_ms  flight_std_ms  dwell_cv  flight_cv  digraph_var  \\\n",
              "0      120.595360      35.261051  0.186891   0.292391   245.841116   \n",
              "1      120.617770      35.268584  0.211823   0.292400   288.481221   \n",
              "2      122.358772      36.188314  0.206891   0.295756   287.920524   \n",
              "3      119.217226      34.646019  0.197358   0.290613   345.053154   \n",
              "4      120.371229      34.602448  0.210938   0.287464   204.942086   \n",
              "\n",
              "   iqr_delay_ms  burstiness  pauses_over_500ms  backspace_rate  \\\n",
              "0     46.671675    5.576393                0.0        0.049751   \n",
              "1     46.427268    6.010986                0.0        0.052885   \n",
              "2     48.301510    4.891197                0.0        0.052885   \n",
              "3     42.789383    5.093063                0.0        0.046632   \n",
              "4     43.140898    6.899826                0.0        0.041322   \n",
              "\n",
              "   self_report_valence_1to9  self_report_arousal_1to9 label_emotion  \n",
              "0                         8                         7         happy  \n",
              "1                         7                         5         happy  \n",
              "2                         7                         5         happy  \n",
              "3                         6                         5         happy  \n",
              "4                         6                         6         happy  "
            ]
          },
          "execution_count": 1,
          "metadata": {},
          "output_type": "execute_result"
        }
      ],
      "source": [
        "import pandas as pd\n",
        "import numpy as np\n",
        "from pathlib import Path\n",
        "from sklearn.model_selection import train_test_split\n",
        "from sklearn.preprocessing import StandardScaler\n",
        "from sklearn.pipeline import Pipeline\n",
        "from sklearn.metrics import classification_report, confusion_matrix\n",
        "from sklearn.ensemble import RandomForestClassifier\n",
        "from sklearn.neural_network import MLPClassifier\n",
        "import matplotlib.pyplot as plt\n",
        "\n",
        "base = Path('.')\n",
        "df = pd.read_csv(base / 'synthetic_session_level.csv')\n",
        "df.head()"
      ]
    },
    {
      "cell_type": "markdown",
      "metadata": {},
      "source": [
        "## Train/test split & feature selection"
      ]
    },
    {
      "cell_type": "code",
      "execution_count": 2,
      "metadata": {},
      "outputs": [
        {
          "data": {
            "text/plain": [
              "((180, 15), (60, 15))"
            ]
          },
          "execution_count": 2,
          "metadata": {},
          "output_type": "execute_result"
        }
      ],
      "source": [
        "target = 'label_emotion'\n",
        "feature_cols = [c for c in df.columns if c not in ['session_id', 'user_id', target]]\n",
        "X = df[feature_cols]\n",
        "y = df[target]\n",
        "from sklearn.model_selection import train_test_split\n",
        "X_train, X_test, y_train, y_test = train_test_split(X, y, test_size=0.25, stratify=y, random_state=42)\n",
        "X_train.shape, X_test.shape"
      ]
    },
    {
      "cell_type": "markdown",
      "metadata": {},
      "source": [
        "## Baseline: RandomForest"
      ]
    },
    {
      "cell_type": "code",
      "execution_count": 3,
      "metadata": {},
      "outputs": [
        {
          "name": "stdout",
          "output_type": "stream",
          "text": [
            "Train Acc: 1.0\n",
            "Test Acc: 1.0\n",
            "\n",
            "Classification Report (Test):\n",
            "               precision    recall  f1-score   support\n",
            "\n",
            "        calm       1.00      1.00      1.00        15\n",
            "       happy       1.00      1.00      1.00        15\n",
            "         sad       1.00      1.00      1.00        15\n",
            "    stressed       1.00      1.00      1.00        15\n",
            "\n",
            "    accuracy                           1.00        60\n",
            "   macro avg       1.00      1.00      1.00        60\n",
            "weighted avg       1.00      1.00      1.00        60\n",
            "\n"
          ]
        },
        {
          "data": {
            "image/png": "[encoded data removed]",
            "text/plain": [
              "<Figure size 640x480 with 2 Axes>"
            ]
          },
          "metadata": {},
          "output_type": "display_data"
        }
      ],
      "source": [
        "rf = RandomForestClassifier(n_estimators=300, max_depth=None, random_state=42)\n",
        "rf.fit(X_train, y_train)\n",
        "print('Train Acc:', rf.score(X_train, y_train))\n",
        "print('Test Acc:', rf.score(X_test, y_test))\n",
        "print('\\nClassification Report (Test):\\n', classification_report(y_test, rf.predict(X_test)))\n",
        "cm = confusion_matrix(y_test, rf.predict(X_test), labels=sorted(y.unique()))\n",
        "fig = plt.figure()\n",
        "plt.imshow(cm)\n",
        "plt.title('Confusion Matrix - RF')\n",
        "plt.xlabel('Predicted')\n",
        "plt.ylabel('True')\n",
        "plt.xticks(range(len(sorted(y.unique()))), sorted(y.unique()), rotation=45)\n",
        "plt.yticks(range(len(sorted(y.unique()))), sorted(y.unique()))\n",
        "plt.colorbar()\n",
        "plt.tight_layout()\n",
        "plt.show()"
      ]
    },
    {
      "cell_type": "markdown",
      "metadata": {},
      "source": [
        "## Neural Baseline: MLPClassifier"
      ]
    },
    {
      "cell_type": "code",
      "execution_count": 4,
      "metadata": {},
      "outputs": [
        {
          "name": "stdout",
          "output_type": "stream",
          "text": [
            "Train Acc: 1.0\n",
            "Test Acc: 1.0\n",
            "\n",
            "Classification Report (Test):\n",
            "               precision    recall  f1-score   support\n",
            "\n",
            "        calm       1.00      1.00      1.00        15\n",
            "       happy       1.00      1.00      1.00        15\n",
            "         sad       1.00      1.00      1.00        15\n",
            "    stressed       1.00      1.00      1.00        15\n",
            "\n",
            "    accuracy                           1.00        60\n",
            "   macro avg       1.00      1.00      1.00        60\n",
            "weighted avg       1.00      1.00      1.00        60\n",
            "\n"
          ]
        },
        {
          "data": {
            "image/png": "[encoded data removed]",
            "text/plain": [
              "<Figure size 640x480 with 2 Axes>"
            ]
          },
          "metadata": {},
          "output_type": "display_data"
        }
      ],
      "source": [
        "mlp = Pipeline([\n",
        "    ('scaler', StandardScaler()),\n",
        "    ('mlp', MLPClassifier(hidden_layer_sizes=(64, 32), activation='relu', max_iter=500, random_state=42))\n",
        "])\n",
        "mlp.fit(X_train, y_train)\n",
        "print('Train Acc:', mlp.score(X_train, y_train))\n",
        "print('Test Acc:', mlp.score(X_test, y_test))\n",
        "print('\\nClassification Report (Test):\\n', classification_report(y_test, mlp.predict(X_test)))\n",
        "cm = confusion_matrix(y_test, mlp.predict(X_test), labels=sorted(y.unique()))\n",
        "fig = plt.figure()\n",
        "plt.imshow(cm)\n",
        "plt.title('Confusion Matrix - MLP')\n",
        "plt.xlabel('Predicted')\n",
        "plt.ylabel('True')\n",
        "plt.xticks(range(len(sorted(y.unique()))), sorted(y.unique()), rotation=45)\n",
        "plt.yticks(range(len(sorted(y.unique()))), sorted(y.unique()))\n",
        "plt.colorbar()\n",
        "plt.tight_layout()\n",
        "plt.show()"
      ]
    },
    {
      "cell_type": "markdown",
      "metadata": {},
      "source": [
        "## Export trained model (optional)\n",
        "You can persist the trained model with joblib for deployment."
      ]
    },
    {
      "cell_type": "code",
      "execution_count": 5,
      "metadata": {},
      "outputs": [
        {
          "name": "stdout",
          "output_type": "stream",
          "text": [
            "Saved rf_model.joblib and mlp_pipeline.joblib\n"
          ]
        }
      ],
      "source": [
        "import joblib\n",
        "joblib.dump(rf, 'rf_model.joblib')\n",
        "joblib.dump(mlp, 'mlp_pipeline.joblib')\n",
        "print('Saved rf_model.joblib and mlp_pipeline.joblib')"
      ]
    },
    {
      "cell_type": "markdown",
      "metadata": {},
      "source": [
        "## Notes on Ethics, Privacy & Limitations\n",
        "- Always collect informed consent and allow opt-out.\n",
        "- Store only derived features (not raw text), and anonymize user IDs.\n",
        "- Emotions are subjective; treat outputs as *assistive* signals, not diagnoses.\n",
        "- Expect distribution shift across devices, languages, and contexts; validate before deployment."
      ]
    }
  ],
  "metadata": {
    "kernelspec": {
      "display_name": ".venv (3.11.2)",
      "language": "python",
      "name": "python3"
    },
    "language_info": {
      "codemirror_mode": {
        "name": "ipython",
        "version": 3
      },
      "file_extension": ".py",
      "mimetype": "text/x-python",
      "name": "python",
      "nbconvert_exporter": "python",
      "pygments_lexer": "ipython3",
      "version": "3.11.2"
    }
  },
  "nbformat": 4,
  "nbformat_minor": 5
}
